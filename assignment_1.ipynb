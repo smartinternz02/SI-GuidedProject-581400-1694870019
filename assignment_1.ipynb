{
 "cells": [
  {
   "cell_type": "markdown",
   "id": "0aadf1d7",
   "metadata": {},
   "source": [
    " # ASSIGNMENT 1 ( APPLIED DATA SCIENCE)\n",
    "\n"
   ]
  },
  {
   "cell_type": "code",
   "execution_count": 1,
   "id": "5ccc5f8c",
   "metadata": {},
   "outputs": [
    {
     "name": "stdout",
     "output_type": "stream",
     "text": [
      "Task 1: DataFrame 'df' with random values:\n",
      "    Random value 1  Random value 2  Random value 3  Random value 4\n",
      "0        0.815128        0.744047        0.136578        0.561302\n",
      "1        0.406748        0.634764        0.360214        0.507172\n",
      "2        0.541016        0.183208        0.986301        0.107350\n",
      "3        0.438645        0.620779        0.448243        0.122133\n",
      "\n",
      "Task 3: Descriptive Statistics of 'df':\n",
      "        Random value 1  Random value 2  Random value 3  Random value 4\n",
      "count        4.000000        4.000000        4.000000        4.000000\n",
      "mean         0.550384        0.545699        0.482834        0.324489\n",
      "std          0.185557        0.247865        0.360372        0.243277\n",
      "min          0.406748        0.183208        0.136578        0.107350\n",
      "25%          0.430671        0.511386        0.304305        0.118437\n",
      "50%          0.489831        0.627771        0.404229        0.314653\n",
      "75%          0.609544        0.662084        0.582758        0.520705\n",
      "max          0.815128        0.744047        0.986301        0.561302\n",
      "\n",
      "Task 4: Null Values in 'df':\n",
      " Random value 1    0\n",
      "Random value 2    0\n",
      "Random value 3    0\n",
      "Random value 4    0\n",
      "dtype: int64\n",
      "\n",
      "Data Types of Columns in 'df':\n",
      " Random value 1    float64\n",
      "Random value 2    float64\n",
      "Random value 3    float64\n",
      "Random value 4    float64\n",
      "dtype: object\n",
      "\n",
      "Task 5: 'Random value 2' with location method:\n",
      " 0    0.744047\n",
      "1    0.634764\n",
      "2    0.183208\n",
      "3    0.620779\n",
      "Name: Random value 2, dtype: float64\n",
      "\n",
      "Task 5: 'Random value 3' with location method:\n",
      " 0    0.136578\n",
      "1    0.360214\n",
      "2    0.986301\n",
      "3    0.448243\n",
      "Name: Random value 3, dtype: float64\n"
     ]
    }
   ],
   "source": [
    "import pandas as pd\n",
    "import numpy as np\n",
    "\n",
    "# Task 1: Create a pandas DataFrame with numpy random values\n",
    "data = np.random.rand(4, 4)\n",
    "df = pd.DataFrame(data, columns=['a', 'b', 'c', 'd'])\n",
    "\n",
    "# Task 2: Rename the columns\n",
    "# No need to rename columns since already done in Task 1\n",
    "\n",
    "# Task 3: Find the descriptive statistics of the DataFrame\n",
    "descriptive_stats = df.describe()\n",
    "\n",
    "# Task 4: Check for null values and data types of columns\n",
    "null_values = df.isnull().sum()\n",
    "data_types = df.dtypes\n",
    "\n",
    "# Task 5: Display 'Random value 2' & 'Random value 3' columns\n",
    "# Using location method\n",
    "random_value_2_loc = df['b']\n",
    "random_value_3_loc = df['c']\n",
    "\n",
    "# Using index location method (iloc)\n",
    "random_value_2_iloc = df.iloc[:, 1]  # Column 1 corresponds to 'Random value 2'\n",
    "random_value_3_iloc = df.iloc[:, 2]  # Column 2 corresponds to 'Random value 3'\n",
    "\n",
    "# Display the results\n",
    "print(\"Task 1: DataFrame 'df' with random values:\\n\", df)\n",
    "print(\"\\nTask 3: Descriptive Statistics of 'df':\\n\", descriptive_stats)\n",
    "print(\"\\nTask 4: Null Values in 'df':\\n\", null_values)\n",
    "print(\"\\nData Types of Columns in 'df':\\n\", data_types)\n",
    "print(\"\\nTask 5: 'Random value 2' with location method:\\n\", random_value_2_loc)\n",
    "print(\"\\nTask 5: 'Random value 3' with location method:\\n\", random_value_3_loc)\n"
   ]
  },
  {
   "cell_type": "code",
   "execution_count": null,
   "id": "5847cefe",
   "metadata": {},
   "outputs": [],
   "source": []
  }
 ],
 "metadata": {
  "kernelspec": {
   "display_name": "Python 3 (ipykernel)",
   "language": "python",
   "name": "python3"
  },
  "language_info": {
   "codemirror_mode": {
    "name": "ipython",
    "version": 3
   },
   "file_extension": ".py",
   "mimetype": "text/x-python",
   "name": "python",
   "nbconvert_exporter": "python",
   "pygments_lexer": "ipython3",
   "version": "3.11.4"
  }
 },
 "nbformat": 4,
 "nbformat_minor": 5
}
